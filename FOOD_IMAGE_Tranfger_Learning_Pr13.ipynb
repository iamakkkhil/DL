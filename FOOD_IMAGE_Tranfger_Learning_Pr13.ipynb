{
  "nbformat": 4,
  "nbformat_minor": 0,
  "metadata": {
    "colab": {
      "provenance": []
    },
    "kernelspec": {
      "name": "python3",
      "display_name": "Python 3"
    },
    "language_info": {
      "name": "python"
    }
  },
  "cells": [
    {
      "cell_type": "markdown",
      "source": [],
      "metadata": {
        "id": "Jk2xLL2HlAjt"
      }
    },
    {
      "cell_type": "markdown",
      "source": [
        "https://www.youtube.com/watch?v=35iRdqY01co"
      ],
      "metadata": {
        "id": "35KZh9tilDMu"
      }
    },
    {
      "cell_type": "code",
      "execution_count": null,
      "metadata": {
        "id": "TM02QDH-iSIT"
      },
      "outputs": [],
      "source": []
    },
    {
      "cell_type": "markdown",
      "source": [],
      "metadata": {
        "id": "SKsOqrphk_Pm"
      }
    },
    {
      "cell_type": "markdown",
      "source": [
        "https://www.kaggle.com/code/gcdatkin/food-image-classification/notebook"
      ],
      "metadata": {
        "id": "MDb1sHbkk_Ux"
      }
    }
  ]
}